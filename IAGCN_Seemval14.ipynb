{
  "nbformat": 4,
  "nbformat_minor": 0,
  "metadata": {
    "colab": {
      "provenance": [],
      "gpuType": "T4",
      "authorship_tag": "ABX9TyMBJy+35qH/40j0yCi/mTEE",
      "include_colab_link": true
    },
    "kernelspec": {
      "name": "python3",
      "display_name": "Python 3"
    },
    "language_info": {
      "name": "python"
    },
    "accelerator": "GPU"
  },
  "cells": [
    {
      "cell_type": "markdown",
      "metadata": {
        "id": "view-in-github",
        "colab_type": "text"
      },
      "source": [
        "<a href=\"https://colab.research.google.com/github/f247805/ABSA-Analysis-with-Explainability-Methods/blob/main/IAGCN_Seemval14.ipynb\" target=\"_parent\"><img src=\"https://colab.research.google.com/assets/colab-badge.svg\" alt=\"Open In Colab\"/></a>"
      ]
    },
    {
      "cell_type": "code",
      "execution_count": 4,
      "metadata": {
        "id": "G3IzQCo25Sc1",
        "colab": {
          "base_uri": "https://localhost:8080/"
        },
        "outputId": "d0925968-1a59-4d1c-f720-bfa3bc14d581"
      },
      "outputs": [
        {
          "output_type": "stream",
          "name": "stdout",
          "text": [
            "Path to dataset files: /kaggle/input/semeval-2014-task-4-aspectbasedsentimentanalysis\n"
          ]
        }
      ],
      "source": [
        "import kagglehub\n",
        "\n",
        "# Download latest version\n",
        "path = kagglehub.dataset_download(\"charitarth/semeval-2014-task-4-aspectbasedsentimentanalysis\")\n",
        "\n",
        "print(\"Path to dataset files:\", path)"
      ]
    },
    {
      "cell_type": "code",
      "source": [
        "import os\n",
        "\n",
        "# Path to the dataset\n",
        "dataset_path = '/kaggle/input/semeval-2014-task-4-aspectbasedsentimentanalysis'\n",
        "\n",
        "# List the files in the dataset directory\n",
        "os.listdir(dataset_path)\n"
      ],
      "metadata": {
        "colab": {
          "base_uri": "https://localhost:8080/"
        },
        "id": "w94NJqxh56NB",
        "outputId": "61184a37-1dca-4f96-c186-5a43b133c722",
        "collapsed": true
      },
      "execution_count": 5,
      "outputs": [
        {
          "output_type": "execute_result",
          "data": {
            "text/plain": [
              "['Laptop_Train_v2.xml',\n",
              " 'Restaurants_Test_Data_PhaseB.csv',\n",
              " 'laptops-trial.csv',\n",
              " 'Laptops_Test_Data_PhaseB.csv',\n",
              " 'restaurants-trial.xml',\n",
              " 'SemEvalSchema.xsd',\n",
              " 'Laptops_Test_Data_phaseB.xml',\n",
              " 'Laptops_Test_Data_PhaseA.xml',\n",
              " 'Laptops_Test_Data_PhaseA.csv',\n",
              " 'Restaurants_Train_v2.csv',\n",
              " 'laptops-trial.xml',\n",
              " 'Restaurants_Train_v2.xml',\n",
              " 'Restaurants_Test_Data_phaseB.xml',\n",
              " 'Restaurants_Test_Data_PhaseA.csv',\n",
              " 'Restaurants_Test_Data_PhaseA.xml',\n",
              " 'Restaurants_Train.xml',\n",
              " 'Laptop_Train_v2.csv',\n",
              " 'restaurants-trial.csv']"
            ]
          },
          "metadata": {},
          "execution_count": 5
        }
      ]
    },
    {
      "cell_type": "code",
      "source": [
        "import os\n",
        "\n",
        "# List the files in the downloaded dataset directory\n",
        "dataset_files = os.listdir(path)\n",
        "print(\"Files in the dataset directory:\")\n",
        "for file in dataset_files:\n",
        "    print(file)\n"
      ],
      "metadata": {
        "colab": {
          "base_uri": "https://localhost:8080/"
        },
        "id": "a2tKQrtJ6Tod",
        "outputId": "d1732a97-f68d-4b5e-c5ba-02e64b5e09be",
        "collapsed": true
      },
      "execution_count": null,
      "outputs": [
        {
          "output_type": "stream",
          "name": "stdout",
          "text": [
            "Files in the dataset directory:\n",
            "Laptop_Train_v2.xml\n",
            "Restaurants_Test_Data_PhaseB.csv\n",
            "laptops-trial.csv\n",
            "Laptops_Test_Data_PhaseB.csv\n",
            "restaurants-trial.xml\n",
            "SemEvalSchema.xsd\n",
            "Laptops_Test_Data_phaseB.xml\n",
            "Laptops_Test_Data_PhaseA.xml\n",
            "Laptops_Test_Data_PhaseA.csv\n",
            "Restaurants_Train_v2.csv\n",
            "laptops-trial.xml\n",
            "Restaurants_Train_v2.xml\n",
            "Restaurants_Test_Data_phaseB.xml\n",
            "Restaurants_Test_Data_PhaseA.csv\n",
            "Restaurants_Test_Data_PhaseA.xml\n",
            "Restaurants_Train.xml\n",
            "Laptop_Train_v2.csv\n",
            "restaurants-trial.csv\n"
          ]
        }
      ]
    },
    {
      "cell_type": "code",
      "source": [
        "import pandas as pd\n",
        "from sklearn.model_selection import train_test_split\n",
        "\n",
        "# Load the dataset\n",
        "train_file = os.path.join(path, 'Laptop_Train_v2.csv')  # Adjust the filename if needed\n",
        "#test_file = os.path.join(path, 'Laptops_Test_Data_PhaseA.csv')    # Adjust the filename if needed\n",
        "\n",
        "train_data = pd.read_csv(train_file)\n",
        "#test_data = pd.read_csv(test_file)\n",
        "\n",
        "# Check the first few rows of the data\n",
        "print(train_data.head())\n"
      ],
      "metadata": {
        "colab": {
          "base_uri": "https://localhost:8080/"
        },
        "id": "EeevNtvV6fYG",
        "outputId": "c2b1e1cc-68a6-448a-967c-75a228959f26",
        "collapsed": true
      },
      "execution_count": 6,
      "outputs": [
        {
          "output_type": "stream",
          "name": "stdout",
          "text": [
            "     id                                           Sentence     Aspect Term  \\\n",
            "0  2339  I charge it at night and skip taking the cord ...            cord   \n",
            "1  2339  I charge it at night and skip taking the cord ...    battery life   \n",
            "2  1316  The tech guy then said the service center does...  service center   \n",
            "3  1316  The tech guy then said the service center does...    \"sales\" team   \n",
            "4  1316  The tech guy then said the service center does...        tech guy   \n",
            "\n",
            "   polarity  from   to  \n",
            "0   neutral    41   45  \n",
            "1  positive    74   86  \n",
            "2  negative    27   41  \n",
            "3  negative   109  121  \n",
            "4   neutral     4   12  \n"
          ]
        }
      ]
    },
    {
      "cell_type": "code",
      "source": [
        "import pandas as pd\n",
        "\n",
        "\n",
        "\n",
        "# Get the total number of rows\n",
        "total_rows = len(train_file)\n",
        "\n",
        "print(f\"Total number of rows: {total_rows}\")\n"
      ],
      "metadata": {
        "colab": {
          "base_uri": "https://localhost:8080/"
        },
        "id": "TQ8cCQ0GmET_",
        "outputId": "042c3389-14ed-4893-8b7f-92f4fe3f8d20"
      },
      "execution_count": null,
      "outputs": [
        {
          "output_type": "stream",
          "name": "stdout",
          "text": [
            "Total number of rows: 122\n"
          ]
        }
      ]
    },
    {
      "cell_type": "code",
      "source": [
        "import pandas as pd\n",
        "import re\n",
        "import nltk\n",
        "from sklearn.model_selection import train_test_split\n",
        "from transformers import BertTokenizer\n",
        "\n",
        "# Download NLTK stopwords if you haven't already\n",
        "nltk.download('stopwords')\n",
        "from nltk.corpus import stopwords\n",
        "\n",
        "# Load the dataset\n",
        "train_data = pd.read_csv('/root/.cache/kagglehub/datasets/charitarth/semeval-2014-task-4-aspectbasedsentimentanalysis/versions/4/Laptop_Train_v2.csv')\n",
        "\n",
        "# Function for cleaning the text\n",
        "def clean_text(text):\n",
        "    # Remove special characters, digits, and extra spaces\n",
        "    text = re.sub(r\"[^a-zA-Z\\s]\", \"\", text)\n",
        "    text = re.sub(r\"\\s+\", \" \", text).strip()\n",
        "    return text\n",
        "\n",
        "# Clean the 'Sentence' column\n",
        "train_data['cleaned_sentence'] = train_data['Sentence'].apply(clean_text)\n",
        "\n",
        "# Tokenize the text using BERT tokenizer (for later usage with BERT-based models)\n",
        "tokenizer = BertTokenizer.from_pretrained('bert-base-uncased')\n",
        "\n",
        "# Tokenizing the cleaned sentences\n",
        "train_data['tokenized_sentence'] = train_data['cleaned_sentence'].apply(lambda x: tokenizer.tokenize(x))\n",
        "\n",
        "# Sentiment label encoding: positive=2, neutral=1, negative=0\n",
        "sentiment_mapping = {'positive': 2, 'neutral': 1, 'negative': 0}\n",
        "train_data['sentiment_label'] = train_data['polarity'].map(sentiment_mapping)\n",
        "\n",
        "# Inspecting the preprocessed data\n",
        "print(train_data[['Sentence', 'cleaned_sentence', 'tokenized_sentence', 'sentiment_label']].head())\n"
      ],
      "metadata": {
        "id": "YT1skUj77WL_",
        "collapsed": true
      },
      "execution_count": null,
      "outputs": []
    },
    {
      "cell_type": "markdown",
      "source": [
        "Deep seek version\n"
      ],
      "metadata": {
        "id": "DsKmbTaaJC8Q"
      }
    },
    {
      "cell_type": "code",
      "source": [
        "import pandas as pd\n",
        "from transformers import BertTokenizerFast\n",
        "import spacy\n",
        "import torch\n",
        "\n",
        "# Initialize tools\n",
        "nlp = spacy.load(\"en_core_web_sm\")\n",
        "tokenizer = BertTokenizerFast.from_pretrained(\"bert-base-uncased\")\n",
        "\n",
        "# Helper function to calculate dependency distance\n",
        "def get_dep_distance(token1, token2):\n",
        "    # Traverse up to root\n",
        "    def get_ancestors(token):\n",
        "        ancestors = []\n",
        "        while token.head != token:\n",
        "            ancestors.append(token)\n",
        "            token = token.head\n",
        "        ancestors.append(token)  # Add the root\n",
        "        return ancestors\n",
        "\n",
        "    ancestors1 = get_ancestors(token1)\n",
        "    ancestors2 = get_ancestors(token2)\n",
        "\n",
        "    # Find lowest common ancestor (LCA)\n",
        "    lca = None\n",
        "    for ancestor in ancestors1:\n",
        "        if ancestor in ancestors2:\n",
        "            lca = ancestor\n",
        "            break\n",
        "\n",
        "    if lca is None:\n",
        "        return len(ancestors1) + len(ancestors2)  # No common ancestor\n",
        "    else:\n",
        "        return ancestors1.index(lca) + ancestors2.index(lca)\n",
        "\n",
        "# Dependency parsing for adjacency matrices\n",
        "def create_adj_matrix(text):\n",
        "    doc = nlp(text)\n",
        "    size = len(doc)\n",
        "    matrix = torch.zeros((size, size))\n",
        "    for token in doc:\n",
        "        matrix[token.i, token.head.i] = 1\n",
        "        matrix[token.head.i, token.i] = 1  # Undirected\n",
        "    return matrix.numpy()\n",
        "\n",
        "# Aspect token span finding\n",
        "def char_to_token_positions(row):\n",
        "    encoding = tokenizer(row[\"Sentence\"], return_offsets_mapping=True)\n",
        "    aspect_start_char = row[\"from\"]\n",
        "    aspect_end_char = row[\"to\"]\n",
        "\n",
        "    # Tokenize aspect\n",
        "    aspect_tokens = tokenizer.tokenize(row[\"Aspect Term\"])\n",
        "\n",
        "    # Find token positions using character offsets\n",
        "    aspect_start_token = None\n",
        "    aspect_end_token = None\n",
        "    for idx, (start, end) in enumerate(encoding.offset_mapping):\n",
        "        if start <= aspect_start_char < end:\n",
        "            aspect_start_token = idx\n",
        "        if start < aspect_end_char <= end:\n",
        "            aspect_end_token = idx\n",
        "            break\n",
        "\n",
        "    # Fallback 1: Token sequence matching\n",
        "    if aspect_start_token is None or aspect_end_token is None:\n",
        "        tokens = tokenizer.tokenize(row[\"Sentence\"])\n",
        "        for i in range(len(tokens) - len(aspect_tokens) + 1):\n",
        "            if tokens[i:i+len(aspect_tokens)] == aspect_tokens:\n",
        "                aspect_start_token, aspect_end_token = i, i+len(aspect_tokens)\n",
        "                break\n",
        "\n",
        "    # Fallback 2: Default to first token\n",
        "    if aspect_start_token is None or aspect_end_token is None:\n",
        "        aspect_start_token = 0\n",
        "        aspect_end_token = min(1, len(tokens))\n",
        "\n",
        "    # Ensure correct span\n",
        "    if (aspect_end_token - aspect_start_token) < len(aspect_tokens):\n",
        "        aspect_end_token = aspect_start_token + len(aspect_tokens)\n",
        "\n",
        "    return aspect_start_token, aspect_end_token\n",
        "\n",
        "def calculate_srd(row):\n",
        "    try:\n",
        "        doc = nlp(row[\"Sentence\"])\n",
        "        distances = []\n",
        "\n",
        "        start = row[\"aspect_start_token\"]\n",
        "        end = row[\"aspect_end_token\"]\n",
        "\n",
        "        if pd.isna(start) or pd.isna(end):\n",
        "            return [0] * len(doc)\n",
        "        start = int(start)\n",
        "        end = int(end)\n",
        "\n",
        "        if start >= end or end > len(doc):\n",
        "            return [0] * len(doc)\n",
        "\n",
        "        aspect_tokens = list(doc[start:end])\n",
        "\n",
        "        for token in doc:\n",
        "            # Check if token is part of aspect\n",
        "            if start <= token.i < end:\n",
        "                distances.append(0)\n",
        "                continue\n",
        "\n",
        "            # Calculate minimum dependency distance to any aspect token\n",
        "            min_dist = min(get_dep_distance(token, aspect_token) for aspect_token in aspect_tokens)\n",
        "            distances.append(min_dist)\n",
        "\n",
        "        return distances\n",
        "\n",
        "    except Exception as e:\n",
        "        print(f\"Error in row {row.name}: {e}\")\n",
        "        return [0] * len(row[\"Sentence\"].split())\n",
        "\n",
        "\n",
        "# ✅ Master function\n",
        "def preprocess_data(df):\n",
        "    # Add aspect token positions\n",
        "    df[[\"aspect_start_token\", \"aspect_end_token\"]] = df.apply(\n",
        "        char_to_token_positions,\n",
        "        axis=1,\n",
        "        result_type=\"expand\"\n",
        "    )\n",
        "\n",
        "    # Add adjacency matrix\n",
        "    df[\"adj_matrix\"] = df[\"Sentence\"].apply(create_adj_matrix)\n",
        "\n",
        "    # Add SRD distances\n",
        "    df[\"srd_weights\"] = df.apply(calculate_srd, axis=1)\n",
        "\n",
        "    return df\n",
        "\n",
        "# Now run on your train data\n",
        "# Example:\n",
        "# train_data = pd.read_csv('your_train_file.csv')\n",
        "df = preprocess_data(train_data)\n"
      ],
      "metadata": {
        "id": "OgTd01u2D8Ns"
      },
      "execution_count": 33,
      "outputs": []
    },
    {
      "cell_type": "code",
      "source": [
        "def validate_positions(df):\n",
        "    # Check for invalid positions\n",
        "    invalid = df[\n",
        "        (df[\"aspect_start_token\"] >= df[\"aspect_end_token\"]) |\n",
        "        (df[\"aspect_start_token\"].isna()) |\n",
        "        (df[\"aspect_end_token\"].isna())\n",
        "    ]\n",
        "\n",
        "    if not invalid.empty:\n",
        "        print(f\"Found {len(invalid)} invalid aspect positions:\")\n",
        "        print(invalid[[\"Sentence\", \"Aspect Term\", \"from\", \"to\"]].head())\n",
        "        # Handle invalid cases\n",
        "        df.loc[invalid.index, \"aspect_start_token\"] = 0\n",
        "        df.loc[invalid.index, \"aspect_end_token\"] = 1\n",
        "\n",
        "    return df\n",
        "\n",
        "# Apply validation\n",
        "df = validate_positions(train_data)"
      ],
      "metadata": {
        "id": "KBSkKc3_4ptP"
      },
      "execution_count": 34,
      "outputs": []
    },
    {
      "cell_type": "code",
      "source": [
        "from sklearn.model_selection import train_test_split\n",
        "\n",
        "# Split by unique IDs to maintain context integrity\n",
        "unique_ids = df[\"id\"].unique()\n",
        "train_ids, test_ids = train_test_split(\n",
        "    unique_ids,\n",
        "    test_size=0.2,\n",
        "    random_state=42,\n",
        "    stratify=df.groupby(\"id\")[\"polarity\"].first()\n",
        ")\n",
        "\n",
        "train_data = df[df[\"id\"].isin(train_ids)]\n",
        "test_data = df[df[\"id\"].isin(test_ids)]\n",
        "\n",
        "print(f\"Train size: {len(train_data)}\")\n",
        "print(f\"Test size: {len(test_data)}\")\n",
        "print(\"\\nTrain distribution:\\n\", train_data[\"polarity\"].value_counts())\n",
        "print(\"\\nTest distribution:\\n\", test_data[\"polarity\"].value_counts())"
      ],
      "metadata": {
        "colab": {
          "base_uri": "https://localhost:8080/"
        },
        "id": "c1PKk9Ra49qC",
        "outputId": "1c74ac97-5563-4ae7-9d6f-001658815415"
      },
      "execution_count": 35,
      "outputs": [
        {
          "output_type": "stream",
          "name": "stdout",
          "text": [
            "Train size: 984\n",
            "Test size: 233\n",
            "\n",
            "Train distribution:\n",
            " polarity\n",
            "positive    434\n",
            "negative    347\n",
            "neutral     188\n",
            "conflict     15\n",
            "Name: count, dtype: int64\n",
            "\n",
            "Test distribution:\n",
            " polarity\n",
            "positive    91\n",
            "negative    88\n",
            "neutral     50\n",
            "conflict     4\n",
            "Name: count, dtype: int64\n"
          ]
        }
      ]
    },
    {
      "cell_type": "code",
      "source": [
        "from torch.utils.data import Dataset\n",
        "import torch\n",
        "\n",
        "class AspectDataset(Dataset):\n",
        "    def __init__(self, df, max_len=128):\n",
        "        self.df = df\n",
        "        self.max_len = max_len\n",
        "        self.label_map = {\"negative\": 0, \"neutral\": 1, \"positive\": 2, \"conflict\": 3}\n",
        "    def __len__(self):\n",
        "            return len(self.df)\n",
        "    def __getitem__(self, idx):\n",
        "        row = self.df.iloc[idx]\n",
        "\n",
        "        # Convert to integers\n",
        "        try:\n",
        "            start = int(row[\"aspect_start_token\"])\n",
        "            end = int(row[\"aspect_end_token\"])\n",
        "        except:\n",
        "            start, end = 0, 1\n",
        "\n",
        "        # Clamp values\n",
        "        start = max(0, min(start, self.max_len-1))\n",
        "        end = max(start+1, min(end, self.max_len))\n",
        "\n",
        "        aspect_mask = torch.zeros(self.max_len)\n",
        "        aspect_mask[start:end] = 1\n",
        "\n",
        "        # Tokenization\n",
        "        encoding = tokenizer(\n",
        "            row[\"Sentence\"],\n",
        "            padding=\"max_length\",\n",
        "            truncation=True,\n",
        "            max_length=self.max_len,\n",
        "            return_tensors=\"pt\"\n",
        "        )\n",
        "\n",
        "        # Aspect mask\n",
        "        aspect_mask = torch.zeros(self.max_len)\n",
        "        start = min(int(row[\"aspect_start_token\"]), self.max_len-1)\n",
        "        end = min(int(row[\"aspect_end_token\"]), self.max_len)\n",
        "        aspect_mask[start:end] = 1\n",
        "\n",
        "\n",
        "        # Adjacency matrix\n",
        "        adj_matrix = torch.tensor(row[\"adj_matrix\"])\n",
        "        if adj_matrix.shape[0] < self.max_len:\n",
        "            pad = self.max_len - adj_matrix.shape[0]\n",
        "            adj_matrix = torch.nn.functional.pad(adj_matrix, (0, pad, 0, pad))\n",
        "\n",
        "        # SRD weights\n",
        "        srd = torch.tensor(row[\"SRD\"][:self.max_len] + [0]*(self.max_len - len(row[\"SRD\"])))\n",
        "\n",
        "        return {\n",
        "            \"input_ids\": encoding[\"input_ids\"].squeeze(),\n",
        "            \"attention_mask\": encoding[\"attention_mask\"].squeeze(),\n",
        "            \"adj_matrix\": adj_matrix[:self.max_len, :self.max_len],\n",
        "            \"aspect_mask\": aspect_mask,\n",
        "            \"srd_weights\": srd,\n",
        "            \"labels\": torch.tensor(self.label_map[row[\"polarity\"]], dtype=torch.long)\n",
        "        }\n",
        "\n",
        "# Create datasets\n",
        "# 2. Calculate SRD\n",
        "train_data[\"SRD\"] = train_data.apply(calculate_srd, axis=1)\n",
        "test_data[\"SRD\"] = test_data.apply(calculate_srd, axis=1)\n",
        "train_dataset = AspectDataset(train_data)\n",
        "test_dataset = AspectDataset(test_data)"
      ],
      "metadata": {
        "id": "l6T7RpQoqj0w",
        "colab": {
          "base_uri": "https://localhost:8080/"
        },
        "outputId": "8811cd4c-253c-47fb-8e1d-dbd58a557b24"
      },
      "execution_count": 41,
      "outputs": [
        {
          "output_type": "stream",
          "name": "stderr",
          "text": [
            "<ipython-input-41-dbf38af5b134>:64: SettingWithCopyWarning: \n",
            "A value is trying to be set on a copy of a slice from a DataFrame.\n",
            "Try using .loc[row_indexer,col_indexer] = value instead\n",
            "\n",
            "See the caveats in the documentation: https://pandas.pydata.org/pandas-docs/stable/user_guide/indexing.html#returning-a-view-versus-a-copy\n",
            "  train_data[\"SRD\"] = train_data.apply(calculate_srd, axis=1)\n",
            "<ipython-input-41-dbf38af5b134>:65: SettingWithCopyWarning: \n",
            "A value is trying to be set on a copy of a slice from a DataFrame.\n",
            "Try using .loc[row_indexer,col_indexer] = value instead\n",
            "\n",
            "See the caveats in the documentation: https://pandas.pydata.org/pandas-docs/stable/user_guide/indexing.html#returning-a-view-versus-a-copy\n",
            "  test_data[\"SRD\"] = test_data.apply(calculate_srd, axis=1)\n"
          ]
        }
      ]
    },
    {
      "cell_type": "code",
      "source": [
        "def inspect_sample(dataset, idx=0):\n",
        "    sample = dataset[idx]\n",
        "    print(\"\\nSample\", idx+1)\n",
        "    print(\"Sentence:\", dataset.df.iloc[idx][\"Sentence\"])\n",
        "    print(\"Aspect Term:\", dataset.df.iloc[idx][\"Aspect Term\"])\n",
        "    print(\"Tokenized:\", tokenizer.convert_ids_to_tokens(sample[\"input_ids\"]))\n",
        "    print(\"Aspect Mask:\", sample[\"aspect_mask\"].nonzero().squeeze().tolist())\n",
        "    print(\"SRD Weights:\", sample[\"srd_weights\"][:10].tolist() + [\"...\"])\n",
        "    print(\"Adj Matrix Shape:\", sample[\"adj_matrix\"].shape)\n",
        "    print(\"Label:\", sample[\"labels\"].item())\n",
        "\n",
        "inspect_sample(train_dataset)\n",
        "inspect_sample(test_dataset)"
      ],
      "metadata": {
        "colab": {
          "base_uri": "https://localhost:8080/"
        },
        "id": "3gyb0lHft7Vh",
        "outputId": "0159d3d9-edcb-4926-9f1f-169ba8b16264"
      },
      "execution_count": 42,
      "outputs": [
        {
          "output_type": "stream",
          "name": "stdout",
          "text": [
            "\n",
            "Sample 1\n",
            "Sentence: Easy to start up and does not overheat as much as other laptops.\n",
            "Aspect Term: start up\n",
            "Tokenized: ['[CLS]', 'easy', 'to', 'start', 'up', 'and', 'does', 'not', 'over', '##hea', '##t', 'as', 'much', 'as', 'other', 'laptop', '##s', '.', '[SEP]', '[PAD]', '[PAD]', '[PAD]', '[PAD]', '[PAD]', '[PAD]', '[PAD]', '[PAD]', '[PAD]', '[PAD]', '[PAD]', '[PAD]', '[PAD]', '[PAD]', '[PAD]', '[PAD]', '[PAD]', '[PAD]', '[PAD]', '[PAD]', '[PAD]', '[PAD]', '[PAD]', '[PAD]', '[PAD]', '[PAD]', '[PAD]', '[PAD]', '[PAD]', '[PAD]', '[PAD]', '[PAD]', '[PAD]', '[PAD]', '[PAD]', '[PAD]', '[PAD]', '[PAD]', '[PAD]', '[PAD]', '[PAD]', '[PAD]', '[PAD]', '[PAD]', '[PAD]', '[PAD]', '[PAD]', '[PAD]', '[PAD]', '[PAD]', '[PAD]', '[PAD]', '[PAD]', '[PAD]', '[PAD]', '[PAD]', '[PAD]', '[PAD]', '[PAD]', '[PAD]', '[PAD]', '[PAD]', '[PAD]', '[PAD]', '[PAD]', '[PAD]', '[PAD]', '[PAD]', '[PAD]', '[PAD]', '[PAD]', '[PAD]', '[PAD]', '[PAD]', '[PAD]', '[PAD]', '[PAD]', '[PAD]', '[PAD]', '[PAD]', '[PAD]', '[PAD]', '[PAD]', '[PAD]', '[PAD]', '[PAD]', '[PAD]', '[PAD]', '[PAD]', '[PAD]', '[PAD]', '[PAD]', '[PAD]', '[PAD]', '[PAD]', '[PAD]', '[PAD]', '[PAD]', '[PAD]', '[PAD]', '[PAD]', '[PAD]', '[PAD]', '[PAD]', '[PAD]', '[PAD]', '[PAD]', '[PAD]', '[PAD]']\n",
            "Aspect Mask: [3, 4]\n",
            "SRD Weights: [2, 2, 1, 0, 0, 3, 3, 2, 4, 3, '...']\n",
            "Adj Matrix Shape: torch.Size([128, 128])\n",
            "Label: 2\n",
            "\n",
            "Sample 1\n",
            "Sentence: I can barely use any usb devices because they will not stay connected properly.\n",
            "Aspect Term: usb devices\n",
            "Tokenized: ['[CLS]', 'i', 'can', 'barely', 'use', 'any', 'usb', 'devices', 'because', 'they', 'will', 'not', 'stay', 'connected', 'properly', '.', '[SEP]', '[PAD]', '[PAD]', '[PAD]', '[PAD]', '[PAD]', '[PAD]', '[PAD]', '[PAD]', '[PAD]', '[PAD]', '[PAD]', '[PAD]', '[PAD]', '[PAD]', '[PAD]', '[PAD]', '[PAD]', '[PAD]', '[PAD]', '[PAD]', '[PAD]', '[PAD]', '[PAD]', '[PAD]', '[PAD]', '[PAD]', '[PAD]', '[PAD]', '[PAD]', '[PAD]', '[PAD]', '[PAD]', '[PAD]', '[PAD]', '[PAD]', '[PAD]', '[PAD]', '[PAD]', '[PAD]', '[PAD]', '[PAD]', '[PAD]', '[PAD]', '[PAD]', '[PAD]', '[PAD]', '[PAD]', '[PAD]', '[PAD]', '[PAD]', '[PAD]', '[PAD]', '[PAD]', '[PAD]', '[PAD]', '[PAD]', '[PAD]', '[PAD]', '[PAD]', '[PAD]', '[PAD]', '[PAD]', '[PAD]', '[PAD]', '[PAD]', '[PAD]', '[PAD]', '[PAD]', '[PAD]', '[PAD]', '[PAD]', '[PAD]', '[PAD]', '[PAD]', '[PAD]', '[PAD]', '[PAD]', '[PAD]', '[PAD]', '[PAD]', '[PAD]', '[PAD]', '[PAD]', '[PAD]', '[PAD]', '[PAD]', '[PAD]', '[PAD]', '[PAD]', '[PAD]', '[PAD]', '[PAD]', '[PAD]', '[PAD]', '[PAD]', '[PAD]', '[PAD]', '[PAD]', '[PAD]', '[PAD]', '[PAD]', '[PAD]', '[PAD]', '[PAD]', '[PAD]', '[PAD]', '[PAD]', '[PAD]', '[PAD]', '[PAD]', '[PAD]']\n",
            "Aspect Mask: [6, 7]\n",
            "SRD Weights: [2, 2, 2, 1, 1, 1, 0, 0, 2, 2, '...']\n",
            "Adj Matrix Shape: torch.Size([128, 128])\n",
            "Label: 0\n"
          ]
        }
      ]
    },
    {
      "cell_type": "code",
      "source": [
        "import matplotlib.pyplot as plt # Importing the pyplot module\n",
        "\n",
        "# For first sample\n",
        "plt.imshow(train_data.iloc[0][\"adj_matrix\"][:15,:15])\n",
        "plt.title(\"Adjacency Matrix (First 15 tokens)\")\n",
        "plt.show()"
      ],
      "metadata": {
        "colab": {
          "base_uri": "https://localhost:8080/",
          "height": 452
        },
        "id": "k9yTExzyOEEh",
        "outputId": "9d7d23bc-1180-4ed9-f7c3-a5309efbf463"
      },
      "execution_count": 58,
      "outputs": [
        {
          "output_type": "display_data",
          "data": {
            "text/plain": [
              "<Figure size 640x480 with 1 Axes>"
            ],
            "image/png": "[encoded data removed]"
          },
          "metadata": {}
        }
      ]
    },
    {
      "cell_type": "code",
      "source": [
        "import numpy as np # Importing the numpy library with alias np\n",
        "\n",
        "plt.hist(np.concatenate(train_data[\"SRD\"].values)) # Now np is defined and can be used\n",
        "plt.title(\"SRD Distribution Across Dataset\")\n",
        "plt.show()"
      ],
      "metadata": {
        "colab": {
          "base_uri": "https://localhost:8080/",
          "height": 452
        },
        "id": "q9svOltVOHYU",
        "outputId": "25c62de1-dc81-4072-c213-d6b362f114cc"
      },
      "execution_count": 60,
      "outputs": [
        {
          "output_type": "display_data",
          "data": {
            "text/plain": [
              "<Figure size 640x480 with 1 Axes>"
            ],
            "image/png": "[encoded data removed]"
          },
          "metadata": {}
        }
      ]
    },
    {
      "cell_type": "code",
      "source": [
        "from torch.utils.data import DataLoader\n",
        "\n",
        "train_loader = DataLoader(train_dataset, batch_size=32, shuffle=True)\n",
        "test_loader = DataLoader(test_dataset, batch_size=16,shuffle=False,num_workers=2)"
      ],
      "metadata": {
        "id": "YZflRwuMBRYc"
      },
      "execution_count": 43,
      "outputs": []
    },
    {
      "cell_type": "code",
      "source": [
        "import torch\n",
        "import torch.nn as nn\n",
        "import torch.nn.functional as F\n",
        "from transformers import AutoModel\n"
      ],
      "metadata": {
        "id": "drzWKL0HqEeK"
      },
      "execution_count": 44,
      "outputs": []
    },
    {
      "cell_type": "code",
      "source": [
        "class GCNLayer(nn.Module):\n",
        "    def __init__(self, in_features, out_features):\n",
        "        super(GCNLayer, self).__init__()\n",
        "        self.fc = nn.Linear(in_features, out_features)\n",
        "\n",
        "    def forward(self, adj_matrix, features):\n",
        "        # Apply adjacency matrix to features\n",
        "        out = torch.matmul(adj_matrix, features)\n",
        "        out = self.fc(out)\n",
        "        return out\n"
      ],
      "metadata": {
        "id": "LiT4JkXdvjrq"
      },
      "execution_count": 45,
      "outputs": []
    },
    {
      "cell_type": "code",
      "source": [
        "class InteractiveAttention(nn.Module):\n",
        "    def __init__(self, hidden_dim):\n",
        "        super(InteractiveAttention, self).__init__()\n",
        "        self.attn = nn.Linear(hidden_dim, 1)\n",
        "\n",
        "    def forward(self, context, aspect):\n",
        "        # Calculate attention scores between context and aspect\n",
        "        scores = self.attn(context * aspect)\n",
        "        attention_weights = torch.softmax(scores, dim=1)\n",
        "        attended_features = context * attention_weights\n",
        "        return attended_features\n"
      ],
      "metadata": {
        "id": "31FlbdTyvlYa"
      },
      "execution_count": 46,
      "outputs": []
    },
    {
      "cell_type": "code",
      "source": [
        "class IAGCN(nn.Module):\n",
        "    def __init__(self, vocab_size, embed_dim=300, hidden_dim=300, num_classes=4):  # Change to 4\n",
        "        super().__init__()\n",
        "        # 1. Embedding Layer\n",
        "        self.embedding = nn.Embedding(vocab_size, embed_dim)\n",
        "\n",
        "        # 2. BiLSTM (Output: [batch, seq_len, hidden_dim])\n",
        "        self.bilstm = nn.LSTM(embed_dim, hidden_dim // 2,\n",
        "                             bidirectional=True, batch_first=True)\n",
        "\n",
        "        # 3. GCN Layers\n",
        "        self.gcn1 = nn.Linear(hidden_dim, hidden_dim)\n",
        "        self.gcn2 = nn.Linear(hidden_dim, hidden_dim)\n",
        "\n",
        "        # 4. Attention (Corrected for batch_first=True)\n",
        "        self.attention = nn.MultiheadAttention(hidden_dim, num_heads=4, batch_first=True)\n",
        "\n",
        "        # 5. Classifier (Input: 2*hidden_dim)\n",
        "        self.classifier = nn.Linear(2 * hidden_dim, num_classes)  # Change to num_classes=4\n",
        "\n",
        "    def forward(self, input_ids, adj_matrix, srd_weights, aspect_mask):\n",
        "        # Embedding -> [batch, seq_len, 300]\n",
        "        x = self.embedding(input_ids)\n",
        "\n",
        "        # BiLSTM -> [batch, seq_len, 300]\n",
        "        lstm_out, _ = self.bilstm(x)\n",
        "\n",
        "        # GCN -> [batch, seq_len, 300]\n",
        "        gcn_out = torch.matmul(adj_matrix, self.gcn1(lstm_out))\n",
        "        gcn_out = torch.matmul(adj_matrix, self.gcn2(gcn_out))\n",
        "\n",
        "        # Aspect Features -> [batch, seq_len, 300]\n",
        "        aspect_features = gcn_out * aspect_mask.unsqueeze(-1)\n",
        "\n",
        "        # Attention -> [batch, seq_len, 300]\n",
        "        context_att, _ = self.attention(gcn_out, aspect_features, aspect_features)\n",
        "\n",
        "        # Pooling -> [batch, 300]\n",
        "        context_pool = context_att.mean(dim=1)\n",
        "        aspect_pool = aspect_features.mean(dim=1)\n",
        "\n",
        "        # Classification -> [batch, 4]  # Now outputs 4 classes\n",
        "        logits = self.classifier(torch.cat([context_pool, aspect_pool], dim=1))\n",
        "        return logits\n"
      ],
      "metadata": {
        "id": "egFEtZQKPU3E"
      },
      "execution_count": 67,
      "outputs": []
    },
    {
      "cell_type": "code",
      "source": [
        "import torch\n",
        "\n",
        "# Check if a GPU is available, otherwise use CPU\n",
        "device = torch.device(\"cuda\" if torch.cuda.is_available() else \"cpu\")\n",
        "\n",
        "model = IAGCN(\n",
        "    vocab_size=len(tokenizer.vocab),\n",
        "    embed_dim=300,\n",
        "    hidden_dim=300\n",
        ").to(device)"
      ],
      "metadata": {
        "id": "xu9TIl6lN09k"
      },
      "execution_count": 68,
      "outputs": []
    },
    {
      "cell_type": "code",
      "source": [
        "import torch.optim as optim\n",
        "from sklearn.metrics import f1_score\n",
        "\n",
        "# Optimizer & Loss\n",
        "optimizer = optim.AdamW(model.parameters(), lr=2e-5, weight_decay=1e-5)\n",
        "criterion = nn.CrossEntropyLoss()\n",
        "\n",
        "# Metrics\n",
        "def calculate_metrics(preds, labels):\n",
        "    acc = (preds == labels).float().mean()\n",
        "    f1 = f1_score(labels.cpu(), preds.cpu(), average='weighted')\n",
        "    return acc.item(), f1"
      ],
      "metadata": {
        "id": "WNL2ZHoxuFMP"
      },
      "execution_count": 69,
      "outputs": []
    },
    {
      "cell_type": "code",
      "source": [
        "import torch.optim as optim\n",
        "from sklearn.metrics import f1_score\n",
        "\n",
        "# Optimizer & Loss\n",
        "optimizer = optim.AdamW(model.parameters(), lr=2e-5, weight_decay=1e-5)\n",
        "criterion = nn.CrossEntropyLoss()\n",
        "\n",
        "# Metrics\n",
        "def calculate_metrics(preds, labels):\n",
        "    acc = (preds == labels).float().mean()\n",
        "    f1 = f1_score(labels.cpu(), preds.cpu(), average='weighted')\n",
        "    return acc.item(), f1\n",
        "\n",
        "best_val_f1 = 0\n",
        "for epoch in range(20):\n",
        "    # Training\n",
        "    model.train()\n",
        "    total_loss = 0\n",
        "    all_preds = []\n",
        "    all_labels = []\n",
        "\n",
        "    for batch in train_loader:\n",
        "        optimizer.zero_grad()\n",
        "\n",
        "        inputs = batch['input_ids'].to(device)\n",
        "        adj = batch['adj_matrix'].float().to(device)\n",
        "        srd = batch['srd_weights'].float().to(device)\n",
        "        mask = batch['aspect_mask'].float().to(device)\n",
        "        labels = batch['labels'].to(device)\n",
        "\n",
        "        outputs = model(inputs, adj, srd, mask)\n",
        "        loss = criterion(outputs, labels)\n",
        "\n",
        "        loss.backward()\n",
        "        optimizer.step()\n",
        "\n",
        "        total_loss += loss.item()\n",
        "        preds = torch.argmax(outputs, dim=1)\n",
        "        all_preds.extend(preds.cpu().tolist())\n",
        "        all_labels.extend(labels.cpu().tolist())\n",
        "\n",
        "    # Calculate metrics\n",
        "    train_acc, train_f1 = calculate_metrics(torch.tensor(all_preds),\n",
        "                                           torch.tensor(all_labels))\n",
        "\n",
        "    # Validation\n",
        "    model.eval()\n",
        "    val_preds = []\n",
        "    val_labels = []\n",
        "    with torch.no_grad():\n",
        "        for batch in test_loader:\n",
        "            inputs = batch['input_ids'].to(device)\n",
        "            adj = batch['adj_matrix'].float().to(device)\n",
        "            srd = batch['srd_weights'].float().to(device)\n",
        "            mask = batch['aspect_mask'].float().to(device)\n",
        "            labels = batch['labels'].to(device)\n",
        "\n",
        "            outputs = model(inputs, adj, srd, mask)\n",
        "            preds = torch.argmax(outputs, dim=1)\n",
        "            val_preds.extend(preds.cpu().tolist())\n",
        "            val_labels.extend(labels.cpu().tolist())\n",
        "\n",
        "    val_acc, val_f1 = calculate_metrics(torch.tensor(val_preds),\n",
        "                                       torch.tensor(val_labels))\n",
        "\n",
        "    # Save best model\n",
        "    if val_f1 > best_val_f1:\n",
        "        best_val_f1 = val_f1\n",
        "        torch.save(model.state_dict(), \"best_model.pth\")\n",
        "\n",
        "    print(f\"Epoch {epoch+1}\")\n",
        "    print(f\"Train Loss: {total_loss/len(train_loader):.4f} | Acc: {train_acc:.2%} | F1: {train_f1:.4f}\")\n",
        "    print(f\"Val Acc: {val_acc:.2%} | F1: {val_f1:.4f}\\n\")\n"
      ],
      "metadata": {
        "colab": {
          "base_uri": "https://localhost:8080/"
        },
        "id": "qBNDObVvuG7g",
        "outputId": "2fcb66ad-a84d-491f-9f48-e8fe59778636"
      },
      "execution_count": 70,
      "outputs": [
        {
          "output_type": "stream",
          "name": "stdout",
          "text": [
            "Epoch 1\n",
            "Train Loss: 1.3759 | Acc: 31.71% | F1: 0.2586\n",
            "Val Acc: 39.91% | F1: 0.2373\n",
            "\n",
            "Epoch 2\n",
            "Train Loss: 1.3715 | Acc: 44.11% | F1: 0.2700\n",
            "Val Acc: 39.06% | F1: 0.2194\n",
            "\n",
            "Epoch 3\n",
            "Train Loss: 1.3650 | Acc: 44.11% | F1: 0.2700\n",
            "Val Acc: 39.06% | F1: 0.2194\n",
            "\n",
            "Epoch 4\n",
            "Train Loss: 1.3493 | Acc: 44.11% | F1: 0.2700\n",
            "Val Acc: 39.06% | F1: 0.2194\n",
            "\n",
            "Epoch 5\n",
            "Train Loss: 1.2887 | Acc: 44.11% | F1: 0.2700\n",
            "Val Acc: 39.06% | F1: 0.2194\n",
            "\n",
            "Epoch 6\n",
            "Train Loss: 1.2339 | Acc: 45.22% | F1: 0.2961\n",
            "Val Acc: 39.48% | F1: 0.2322\n",
            "\n",
            "Epoch 7\n",
            "Train Loss: 1.2024 | Acc: 44.21% | F1: 0.2740\n",
            "Val Acc: 39.06% | F1: 0.2194\n",
            "\n",
            "Epoch 8\n",
            "Train Loss: 1.1796 | Acc: 44.92% | F1: 0.2882\n",
            "Val Acc: 39.48% | F1: 0.2322\n",
            "\n",
            "Epoch 9\n",
            "Train Loss: 1.1626 | Acc: 47.66% | F1: 0.3469\n",
            "Val Acc: 38.63% | F1: 0.2297\n",
            "\n",
            "Epoch 10\n",
            "Train Loss: 1.1466 | Acc: 45.93% | F1: 0.3181\n",
            "Val Acc: 39.48% | F1: 0.2316\n",
            "\n",
            "Epoch 11\n",
            "Train Loss: 1.1323 | Acc: 49.19% | F1: 0.3894\n",
            "Val Acc: 38.63% | F1: 0.2297\n",
            "\n",
            "Epoch 12\n",
            "Train Loss: 1.1169 | Acc: 47.56% | F1: 0.3478\n",
            "Val Acc: 41.20% | F1: 0.2964\n",
            "\n",
            "Epoch 13\n",
            "Train Loss: 1.1010 | Acc: 51.63% | F1: 0.4240\n",
            "Val Acc: 43.35% | F1: 0.3430\n",
            "\n",
            "Epoch 14\n",
            "Train Loss: 1.0818 | Acc: 53.46% | F1: 0.4498\n",
            "Val Acc: 45.06% | F1: 0.3685\n",
            "\n",
            "Epoch 15\n",
            "Train Loss: 1.0604 | Acc: 54.17% | F1: 0.4624\n",
            "Val Acc: 40.34% | F1: 0.2877\n",
            "\n",
            "Epoch 16\n",
            "Train Loss: 1.0327 | Acc: 56.10% | F1: 0.4867\n",
            "Val Acc: 45.49% | F1: 0.3796\n",
            "\n",
            "Epoch 17\n",
            "Train Loss: 1.0052 | Acc: 57.32% | F1: 0.5075\n",
            "Val Acc: 47.21% | F1: 0.4017\n",
            "\n",
            "Epoch 18\n",
            "Train Loss: 0.9725 | Acc: 58.94% | F1: 0.5348\n",
            "Val Acc: 48.93% | F1: 0.4248\n",
            "\n",
            "Epoch 19\n",
            "Train Loss: 0.9386 | Acc: 60.37% | F1: 0.5582\n",
            "Val Acc: 51.50% | F1: 0.4762\n",
            "\n",
            "Epoch 20\n",
            "Train Loss: 0.9024 | Acc: 61.18% | F1: 0.5723\n",
            "Val Acc: 49.79% | F1: 0.4451\n",
            "\n"
          ]
        }
      ]
    },
    {
      "cell_type": "code",
      "source": [],
      "metadata": {
        "id": "oWbQrZLbY_f2"
      },
      "execution_count": null,
      "outputs": []
    },
    {
      "cell_type": "code",
      "source": [
        "print(labels.unique())  # Check unique values in the labels\n"
      ],
      "metadata": {
        "colab": {
          "base_uri": "https://localhost:8080/"
        },
        "id": "mt_Jri-URBWB",
        "outputId": "5a1eef21-dd06-4544-8796-1cc9c8c4aec5"
      },
      "execution_count": 65,
      "outputs": [
        {
          "output_type": "stream",
          "name": "stdout",
          "text": [
            "tensor([0, 1, 2, 3])\n"
          ]
        }
      ]
    },
    {
      "cell_type": "code",
      "source": [
        "print(outputs.shape)"
      ],
      "metadata": {
        "colab": {
          "base_uri": "https://localhost:8080/"
        },
        "id": "CGjJIab3RFN8",
        "outputId": "65041e6b-4e9c-4ea1-c8dc-6e1719f56e2a"
      },
      "execution_count": 66,
      "outputs": [
        {
          "output_type": "stream",
          "name": "stdout",
          "text": [
            "torch.Size([32, 3])\n"
          ]
        }
      ]
    }
  ]
}